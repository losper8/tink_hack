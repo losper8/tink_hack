{
 "cells": [
  {
   "cell_type": "code",
   "id": "initial_id",
   "metadata": {
    "collapsed": true,
    "ExecuteTime": {
     "end_time": "2024-06-01T17:04:04.831741Z",
     "start_time": "2024-06-01T17:04:04.562296Z"
    }
   },
   "source": [
    "import json\n",
    "\n",
    "import pandas as pd"
   ],
   "outputs": [],
   "execution_count": 1
  },
  {
   "metadata": {
    "ExecuteTime": {
     "end_time": "2024-06-01T17:04:04.867870Z",
     "start_time": "2024-06-01T17:04:04.837799Z"
    }
   },
   "cell_type": "code",
   "source": [
    "with open('data/norm_dataset.json') as f:\n",
    "    data = json.load(f)"
   ],
   "id": "f051cbcf59e431b1",
   "outputs": [],
   "execution_count": 2
  },
  {
   "metadata": {
    "ExecuteTime": {
     "end_time": "2024-06-01T17:04:04.871729Z",
     "start_time": "2024-06-01T17:04:04.869067Z"
    }
   },
   "cell_type": "code",
   "source": "print(len(data))",
   "id": "96813da56c8ffcdb",
   "outputs": [
    {
     "name": "stdout",
     "output_type": "stream",
     "text": [
      "3255\n"
     ]
    }
   ],
   "execution_count": 3
  },
  {
   "metadata": {
    "ExecuteTime": {
     "end_time": "2024-06-01T17:04:05.778712Z",
     "start_time": "2024-06-01T17:04:05.774494Z"
    }
   },
   "cell_type": "code",
   "source": "df = pd.DataFrame(data)",
   "id": "f0acfc65caeb7463",
   "outputs": [],
   "execution_count": 4
  },
  {
   "metadata": {
    "ExecuteTime": {
     "end_time": "2024-06-01T17:04:06.252573Z",
     "start_time": "2024-06-01T17:04:06.245222Z"
    }
   },
   "cell_type": "code",
   "source": "df.head()",
   "id": "4a7ffb545a6d8657",
   "outputs": [
    {
     "data": {
      "text/plain": [
       "                                                 url  \\\n",
       "0  /business/help/reports/tinkoff-accounting/taxe...   \n",
       "1  /business/help/reports/tinkoff-accounting/taxe...   \n",
       "2  /business/help/reports/tinkoff-accounting/taxe...   \n",
       "3  /business/help/reports/tinkoff-accounting/taxe...   \n",
       "4  /business/help/reports/tinkoff-accounting/taxe...   \n",
       "\n",
       "                                          parent_url  \\\n",
       "0  https://www.tinkoff.ru/business/help/reports/a...   \n",
       "1  https://www.tinkoff.ru/business/help/reports/a...   \n",
       "2  https://www.tinkoff.ru/business/help/reports/a...   \n",
       "3  https://www.tinkoff.ru/business/help/reports/a...   \n",
       "4  https://www.tinkoff.ru/business/help/reports/a...   \n",
       "\n",
       "                                         breadcrumps  \\\n",
       "0  [Помощь, Бизнес, Бухгалтерия, Тинькофф Бухгалт...   \n",
       "1  [Помощь, Бизнес, Бухгалтерия, Тинькофф Бухгалт...   \n",
       "2  [Помощь, Бизнес, Бухгалтерия, Тинькофф Бухгалт...   \n",
       "3  [Помощь, Бизнес, Бухгалтерия, Тинькофф Бухгалт...   \n",
       "4  [Помощь, Бизнес, Бухгалтерия, Тинькофф Бухгалт...   \n",
       "\n",
       "                                            question  \\\n",
       "0                           Что такое торговый сбор?   \n",
       "1                  Кто должен платить торговый сбор?   \n",
       "2  Как и зачем становиться на учет по торговому с...   \n",
       "3                      Как рассчитать торговый сбор?   \n",
       "4                       Когда платить торговый сбор?   \n",
       "\n",
       "                                              answer  \n",
       "0  ## Что такое торговый сбор?\\nТорговый сбор — э...  \n",
       "1  ## Кто должен платить торговый сбор?\\nВ общем ...  \n",
       "2  ## Как и зачем становиться на учет по торговом...  \n",
       "3  ## Как рассчитать торговый сбор?\\nВ Москве ста...  \n",
       "4  ## Когда платить торговый сбор?\\nУплачивайте т...  "
      ],
      "text/html": [
       "<div>\n",
       "<style scoped>\n",
       "    .dataframe tbody tr th:only-of-type {\n",
       "        vertical-align: middle;\n",
       "    }\n",
       "\n",
       "    .dataframe tbody tr th {\n",
       "        vertical-align: top;\n",
       "    }\n",
       "\n",
       "    .dataframe thead th {\n",
       "        text-align: right;\n",
       "    }\n",
       "</style>\n",
       "<table border=\"1\" class=\"dataframe\">\n",
       "  <thead>\n",
       "    <tr style=\"text-align: right;\">\n",
       "      <th></th>\n",
       "      <th>url</th>\n",
       "      <th>parent_url</th>\n",
       "      <th>breadcrumps</th>\n",
       "      <th>question</th>\n",
       "      <th>answer</th>\n",
       "    </tr>\n",
       "  </thead>\n",
       "  <tbody>\n",
       "    <tr>\n",
       "      <th>0</th>\n",
       "      <td>/business/help/reports/tinkoff-accounting/taxe...</td>\n",
       "      <td>https://www.tinkoff.ru/business/help/reports/a...</td>\n",
       "      <td>[Помощь, Бизнес, Бухгалтерия, Тинькофф Бухгалт...</td>\n",
       "      <td>Что такое торговый сбор?</td>\n",
       "      <td>## Что такое торговый сбор?\\nТорговый сбор — э...</td>\n",
       "    </tr>\n",
       "    <tr>\n",
       "      <th>1</th>\n",
       "      <td>/business/help/reports/tinkoff-accounting/taxe...</td>\n",
       "      <td>https://www.tinkoff.ru/business/help/reports/a...</td>\n",
       "      <td>[Помощь, Бизнес, Бухгалтерия, Тинькофф Бухгалт...</td>\n",
       "      <td>Кто должен платить торговый сбор?</td>\n",
       "      <td>## Кто должен платить торговый сбор?\\nВ общем ...</td>\n",
       "    </tr>\n",
       "    <tr>\n",
       "      <th>2</th>\n",
       "      <td>/business/help/reports/tinkoff-accounting/taxe...</td>\n",
       "      <td>https://www.tinkoff.ru/business/help/reports/a...</td>\n",
       "      <td>[Помощь, Бизнес, Бухгалтерия, Тинькофф Бухгалт...</td>\n",
       "      <td>Как и зачем становиться на учет по торговому с...</td>\n",
       "      <td>## Как и зачем становиться на учет по торговом...</td>\n",
       "    </tr>\n",
       "    <tr>\n",
       "      <th>3</th>\n",
       "      <td>/business/help/reports/tinkoff-accounting/taxe...</td>\n",
       "      <td>https://www.tinkoff.ru/business/help/reports/a...</td>\n",
       "      <td>[Помощь, Бизнес, Бухгалтерия, Тинькофф Бухгалт...</td>\n",
       "      <td>Как рассчитать торговый сбор?</td>\n",
       "      <td>## Как рассчитать торговый сбор?\\nВ Москве ста...</td>\n",
       "    </tr>\n",
       "    <tr>\n",
       "      <th>4</th>\n",
       "      <td>/business/help/reports/tinkoff-accounting/taxe...</td>\n",
       "      <td>https://www.tinkoff.ru/business/help/reports/a...</td>\n",
       "      <td>[Помощь, Бизнес, Бухгалтерия, Тинькофф Бухгалт...</td>\n",
       "      <td>Когда платить торговый сбор?</td>\n",
       "      <td>## Когда платить торговый сбор?\\nУплачивайте т...</td>\n",
       "    </tr>\n",
       "  </tbody>\n",
       "</table>\n",
       "</div>"
      ]
     },
     "execution_count": 5,
     "metadata": {},
     "output_type": "execute_result"
    }
   ],
   "execution_count": 5
  },
  {
   "metadata": {
    "ExecuteTime": {
     "end_time": "2024-06-01T17:04:07.507071Z",
     "start_time": "2024-06-01T17:04:07.502110Z"
    }
   },
   "cell_type": "code",
   "source": "df.shape\n",
   "id": "6da05a80b422c714",
   "outputs": [
    {
     "data": {
      "text/plain": [
       "(3255, 5)"
      ]
     },
     "execution_count": 6,
     "metadata": {},
     "output_type": "execute_result"
    }
   ],
   "execution_count": 6
  },
  {
   "metadata": {
    "ExecuteTime": {
     "end_time": "2024-06-01T17:04:10.018174Z",
     "start_time": "2024-06-01T17:04:10.012394Z"
    }
   },
   "cell_type": "code",
   "source": [
    "# breadcrumps = [Помощь, Бизнес, Бухгалтерия, Тинькофф Бухгалтерия, Налоги и взносы: узнать, уплатить, уменьшить, Торговый сбор]\n",
    "# turn into string\n",
    "df['breadcrumps'] = df['breadcrumps'].apply(lambda x: ' > '.join(x))"
   ],
   "id": "e3fc8266934ac9df",
   "outputs": [],
   "execution_count": 7
  },
  {
   "metadata": {
    "ExecuteTime": {
     "end_time": "2024-06-01T17:04:11.286902Z",
     "start_time": "2024-06-01T17:04:11.245920Z"
    }
   },
   "cell_type": "code",
   "source": [
    "# remove those with same question and same answer\n",
    "df = df.drop_duplicates(subset=['question', 'answer', 'breadcrumps'])"
   ],
   "id": "da4cc3de5a410e30",
   "outputs": [],
   "execution_count": 8
  },
  {
   "metadata": {
    "ExecuteTime": {
     "end_time": "2024-06-01T17:04:11.988843Z",
     "start_time": "2024-06-01T17:04:11.986301Z"
    }
   },
   "cell_type": "code",
   "source": "df.shape",
   "id": "a560a01d6c5ed652",
   "outputs": [
    {
     "data": {
      "text/plain": [
       "(2839, 5)"
      ]
     },
     "execution_count": 9,
     "metadata": {},
     "output_type": "execute_result"
    }
   ],
   "execution_count": 9
  },
  {
   "metadata": {
    "ExecuteTime": {
     "end_time": "2024-06-01T17:04:13.256127Z",
     "start_time": "2024-06-01T17:04:13.252962Z"
    }
   },
   "cell_type": "code",
   "source": "question_counts = df['question'].value_counts()",
   "id": "ed4539f65ee916a3",
   "outputs": [],
   "execution_count": 10
  },
  {
   "metadata": {
    "ExecuteTime": {
     "end_time": "2024-06-01T17:04:13.779750Z",
     "start_time": "2024-06-01T17:04:13.774118Z"
    }
   },
   "cell_type": "code",
   "source": "question_counts",
   "id": "b097b57effd52525",
   "outputs": [
    {
     "data": {
      "text/plain": [
       "question\n",
       "Как списываются платежи?                                                          3\n",
       "Как отредактировать оценочную форму?                                              2\n",
       "Как настроить доступ к форме на платформе речевой аналитики?                      2\n",
       "Где посмотреть все теги?                                                          2\n",
       "Как найти нужный тег в общем списке?                                              2\n",
       "                                                                                 ..\n",
       "Как настроить интеграцию сервиса «Чеки» с интернет-эквайрингом?                   1\n",
       "Как магазину оформить возврат денег покупателю?                                   1\n",
       "Какую сумму вернуть покупателю при возврате товара?                               1\n",
       "Что делать, если сумма возврата меньше задолженности по кредиту или рассрочке?    1\n",
       "Отправили реестр, а зарплата сотрудникам не пришла. Почему?                       1\n",
       "Name: count, Length: 2651, dtype: int64"
      ]
     },
     "execution_count": 11,
     "metadata": {},
     "output_type": "execute_result"
    }
   ],
   "execution_count": 11
  },
  {
   "metadata": {
    "ExecuteTime": {
     "end_time": "2024-06-01T17:01:14.478501Z",
     "start_time": "2024-06-01T17:01:14.428128Z"
    }
   },
   "cell_type": "code",
   "source": [
    "with open('data/norm_dataset_clean.json', 'w', encoding='utf-8') as file:\n",
    "    df.to_json(file, force_ascii=False, orient='records')"
   ],
   "id": "3f4481932d99c7fe",
   "outputs": [],
   "execution_count": 37
  }
 ],
 "metadata": {
  "kernelspec": {
   "display_name": "Python 3",
   "language": "python",
   "name": "python3"
  },
  "language_info": {
   "codemirror_mode": {
    "name": "ipython",
    "version": 2
   },
   "file_extension": ".py",
   "mimetype": "text/x-python",
   "name": "python",
   "nbconvert_exporter": "python",
   "pygments_lexer": "ipython2",
   "version": "2.7.6"
  }
 },
 "nbformat": 4,
 "nbformat_minor": 5
}
